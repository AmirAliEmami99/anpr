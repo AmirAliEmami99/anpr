{
 "cells": [
  {
   "cell_type": "markdown",
   "source": [
    "# importing libraries\n"
   ],
   "metadata": {
    "collapsed": false,
    "pycharm": {
     "name": "#%% md\n"
    }
   }
  },
  {
   "cell_type": "code",
   "source": [
    "import time\n",
    "from builtins import print\n",
    "\n",
    "import math\n",
    "import cv2\n",
    "import numpy as np\n",
    "import tensorflow as tf\n",
    "from tensorflow import keras\n",
    "from keras.models import Sequential\n",
    "from tensorflow.keras import layers\n",
    "# from keras.optimizers import Adam\n",
    "from keras.metrics import categorical_crossentropy\n",
    "from keras.preprocessing.image import ImageDataGenerator, load_img, img_to_array\n",
    "from sklearn.metrics import confusion_matrix\n",
    "import itertools\n",
    "import os\n",
    "import shutil\n",
    "import random\n",
    "import glob\n",
    "import matplotlib.pyplot as plt\n",
    "import warnings\n",
    "warnings.simplefilter(action='ignore', category=FutureWarning)\n",
    "# %matplotlib inline\n",
    "\n",
    "print('Import Done!')\n",
    "\n",
    "from tensorflow.python.client import device_lib\n",
    "print(device_lib.list_local_devices())\n",
    "\n",
    "physical_devices = tf.config.experimental.list_physical_devices('GPU')\n",
    "print(\"Num GPUs Available: \", len(physical_devices))\n",
    "tf.config.experimental.set_memory_growth(physical_devices[0], True)"
   ],
   "metadata": {
    "collapsed": false,
    "pycharm": {
     "name": "#%%\n"
    }
   },
   "execution_count": 1,
   "outputs": [
    {
     "name": "stdout",
     "output_type": "stream",
     "text": [
      "Import Done!\n",
      "[name: \"/device:CPU:0\"\n",
      "device_type: \"CPU\"\n",
      "memory_limit: 268435456\n",
      "locality {\n",
      "}\n",
      "incarnation: 4790319304454129632\n",
      ", name: \"/device:GPU:0\"\n",
      "device_type: \"GPU\"\n",
      "memory_limit: 2913966491\n",
      "locality {\n",
      "  bus_id: 1\n",
      "  links {\n",
      "  }\n",
      "}\n",
      "incarnation: 1829120399415654154\n",
      "physical_device_desc: \"device: 0, name: NVIDIA GeForce GTX 1050 Ti, pci bus id: 0000:01:00.0, compute capability: 6.1\"\n",
      "]\n",
      "Num GPUs Available:  1\n"
     ]
    }
   ]
  },
  {
   "cell_type": "code",
   "execution_count": 2,
   "outputs": [
    {
     "name": "stdout",
     "output_type": "stream",
     "text": [
      "Default GPU Device Details: /device:GPU:0\n"
     ]
    }
   ],
   "source": [
    "import tensorflow as tf\n",
    "if tf.test.gpu_device_name():\n",
    "    print('Default GPU Device Details: {}'.format(tf.test.gpu_device_name()))\n",
    "else:\n",
    "    print(\"Please install Tensorflow that supports GPU\")"
   ],
   "metadata": {
    "collapsed": false,
    "pycharm": {
     "name": "#%%\n"
    }
   }
  },
  {
   "cell_type": "markdown",
   "source": [
    "# sorting files"
   ],
   "metadata": {
    "collapsed": false,
    "pycharm": {
     "name": "#%% md\n"
    }
   }
  },
  {
   "cell_type": "code",
   "execution_count": null,
   "outputs": [],
   "source": [
    "# <editor-fold desc=\"exploring file manipulation\">\n",
    "# exploring file manipulation\n",
    "path = 'D:\\\\resource\\Char/'\n",
    "path2 = 'D:\\\\resource\\Char\\zeroToNineDataset/'\n",
    "\n",
    "res = []\n",
    "for (dir_path, dir_names, file_names) in os.walk(path):\n",
    "    res.extend(dir_names)\n",
    "print(res)\n",
    "\n",
    "\n",
    "path = 'D:\\\\resource\\Char/'\n",
    "path2 = 'D:\\\\resource\\Char\\zeroToNineDataset/'\n",
    "\n",
    "for i in range(0, 10):\n",
    "    list = os.listdir(path + str(i))\n",
    "    number_files = len(list)\n",
    "    print(number_files)\n",
    "    print(list)\n",
    "    portion = math.floor(0.5*number_files)\n",
    "    portion2 = math.floor(0.75*number_files)\n",
    "\n",
    "\n",
    "\n",
    "    # print(portion)\n",
    "    # print(list[:portion])\n",
    "    # print(list[portion:portion2])\n",
    "    # print(list[portion2:])\n",
    "    # for (dir_path, dir_names, file_names) in os.walk(path):\n",
    "    #     print(list+file_names)\n",
    "\n",
    "path = 'D:\\\\resource\\Char/'\n",
    "path2 = 'D:\\\\resource\\Char\\zeroToNineDataset/'\n",
    "\n",
    "for i in range(0, 10):\n",
    "    list = os.listdir(path + str(i))\n",
    "    number_files = len(list)\n",
    "    print(number_files)\n",
    "    portion = math.floor(0.5*number_files)\n",
    "    portion2 = math.floor(0.75*number_files)\n",
    "    print(portion)\n",
    "    print(list[:portion])\n",
    "    print(list[portion:portion2])\n",
    "    print(list[portion2:])\n",
    "\n",
    "for i in range(0, 10):\n",
    "    for file_name in os.listdir(path + str(i)):\n",
    "        list = os.listdir(path + str(i))\n",
    "        number_files = len(list);   print(number_files)\n",
    "\n",
    "        portion = math.floor(0.5*number_files)\n",
    "        portion2 = math.floor(0.75*number_files)\n",
    "        source = path + list[:portion]\n",
    "        destination = path2+'train/'+str(i)\n",
    "\n",
    "\n",
    "list = np.arange(1, 101).tolist()\n",
    "number_files = len(list)\n",
    "print(number_files)\n",
    "portion = math.floor(0.5*number_files)\n",
    "portion2 = math.floor(0.75*number_files)\n",
    "print(list[:portion])\n",
    "print(list[portion:portion2])\n",
    "print(list[portion2:])\n",
    "list2= []\n",
    "\n",
    "# end\n",
    "# </editor-fold>\n"
   ],
   "metadata": {
    "collapsed": false,
    "pycharm": {
     "name": "#%%\n",
     "is_executing": true
    }
   }
  },
  {
   "cell_type": "code",
   "execution_count": 109,
   "outputs": [
    {
     "name": "stdout",
     "output_type": "stream",
     "text": [
      "Total 0: 110\n",
      "Train 0: 88\n",
      "Total 1: 395\n",
      "Train 1: 316\n",
      "Total 2: 0\n",
      "Train 2: 0\n",
      "Total 3: 383\n",
      "Train 3: 306\n",
      "Total 4: 0\n",
      "Train 4: 0\n",
      "Total 5: 0\n",
      "Train 5: 0\n",
      "Total 6: 0\n",
      "Train 6: 0\n",
      "Total 7: 0\n",
      "Train 7: 0\n",
      "Total 8: 0\n",
      "Train 8: 0\n",
      "Total 9: 0\n",
      "Train 9: 0\n"
     ]
    }
   ],
   "source": [
    "path = 'D:\\\\resource\\Char/'\n",
    "path2 = 'D:\\\\resource\\Char\\zeroToNineDataset/'\n",
    "\n",
    "for i in range(0,10):\n",
    "    list = os.listdir(path+str(i))\n",
    "    number_files = len(list)\n",
    "    print ('Total '+str(i)+':',number_files)\n",
    "    print ('Train '+str(i)+':',int(number_files*0.8))"
   ],
   "metadata": {
    "collapsed": false,
    "pycharm": {
     "name": "#%%\n"
    }
   }
  },
  {
   "cell_type": "code",
   "execution_count": 105,
   "outputs": [
    {
     "name": "stdout",
     "output_type": "stream",
     "text": [
      "Train 0: 873\n",
      "Train 1: 3156\n",
      "Train 2: 4325\n",
      "Train 3: 3059\n",
      "Train 4: 2664\n",
      "Train 5: 2878\n",
      "Train 6: 2866\n",
      "Train 7: 2684\n",
      "Train 8: 2965\n",
      "Train 9: 2766\n",
      "Done\n"
     ]
    }
   ],
   "source": [
    "# train\n",
    "for i in range(0,10):\n",
    "    try:\n",
    "        os.makedirs(path2+'train/'+str(i))\n",
    "        for j in random.sample(glob.glob(path+str(i)+'/*'),\n",
    "                               int(0.8*len(os.listdir(path+str(i))))):\n",
    "                shutil.move(j, path2+'train/'+str(i))\n",
    "        print ('Train '+str(i)+':',len(os.listdir(path2+'train/'+str(i))))\n",
    "\n",
    "    except:\n",
    "        print(\"Fail!\")\n",
    "        pass\n",
    "\n",
    "print('Done')"
   ],
   "metadata": {
    "collapsed": false,
    "pycharm": {
     "name": "#%%\n"
    }
   }
  },
  {
   "cell_type": "code",
   "execution_count": 106,
   "outputs": [
    {
     "name": "stdout",
     "output_type": "stream",
     "text": [
      "valid 0: 109\n",
      "valid 1: 395\n",
      "valid 2: 541\n",
      "valid 3: 382\n",
      "valid 4: 333\n",
      "valid 5: 360\n",
      "valid 6: 358\n",
      "valid 7: 335\n",
      "valid 8: 371\n",
      "valid 9: 346\n",
      "Done\n"
     ]
    }
   ],
   "source": [
    "# valid\n",
    "for i in range(0,10):\n",
    "    try:\n",
    "        os.makedirs(path2+'valid/'+str(i))\n",
    "        for j in random.sample(glob.glob(path+str(i)+'/*'),\n",
    "                               int(0.5*len(os.listdir(path+str(i))))):\n",
    "                shutil.move(j, path2+'valid/'+str(i))\n",
    "        print ('valid '+str(i)+':',len(os.listdir(path2+'valid/'+str(i))))\n",
    "\n",
    "    except:\n",
    "        print(\"Fail!\")\n",
    "        pass\n",
    "\n",
    "print('Done')"
   ],
   "metadata": {
    "collapsed": false,
    "pycharm": {
     "name": "#%%\n"
    }
   }
  },
  {
   "cell_type": "code",
   "execution_count": 112,
   "outputs": [
    {
     "name": "stdout",
     "output_type": "stream",
     "text": [
      "Fail!\n",
      "Fail!\n",
      "Fail!\n",
      "Fail!\n",
      "Fail!\n",
      "Fail!\n",
      "Fail!\n",
      "Fail!\n",
      "Fail!\n",
      "Fail!\n",
      "Done\n"
     ]
    }
   ],
   "source": [
    "# test\n",
    "for i in range(0,10):\n",
    "    try:\n",
    "        os.makedirs(path2+'test/'+str(i))\n",
    "        for j in random.sample(glob.glob(path+str(i)+'/*'),\n",
    "                               int(1*len(os.listdir(path+str(i))))):\n",
    "                shutil.move(j, 'test/'+str(i))\n",
    "        print ('test '+str(i)+':',len(os.listdir(path2+'test/'+str(i))))\n",
    "\n",
    "    except:\n",
    "        print(\"Fail!\")\n",
    "        pass\n",
    "\n",
    "print('Done')"
   ],
   "metadata": {
    "collapsed": false,
    "pycharm": {
     "name": "#%%\n"
    }
   }
  },
  {
   "cell_type": "code",
   "execution_count": 2,
   "outputs": [
    {
     "name": "stdout",
     "output_type": "stream",
     "text": [
      "871\n"
     ]
    }
   ],
   "source": [
    "list = os.listdir('D:\\\\resource\\Char\\zeroToNineDataset\\\\train\\\\0') # dir is your directory path\n",
    "number_files = len(list)\n",
    "print (number_files)\n",
    "# print(list)"
   ],
   "metadata": {
    "collapsed": false,
    "pycharm": {
     "name": "#%%\n"
    }
   }
  },
  {
   "cell_type": "code",
   "execution_count": 118,
   "outputs": [
    {
     "name": "stdout",
     "output_type": "stream",
     "text": [
      "BMP\n",
      "(32, 32)\n",
      "L\n",
      "<PIL.BmpImagePlugin.BmpImageFile image mode=L size=32x32 at 0x20445B70B50>\n",
      "Done!\n"
     ]
    }
   ],
   "source": [
    "from PIL import Image\n",
    "dir = 'D:\\\\resource\\Char\\zeroToNineDataset\\\\train\\\\0\\\\2021-01-14_07-26-55-193_47J25422-IRN8.bmp'\n",
    "img = Image.open(dir)\n",
    "\n",
    "print(img.format)\n",
    "print(img.size)\n",
    "print(img.mode)\n",
    "# img = cv2.imread(input_path)\n",
    "print(img)\n",
    "print(\"Done!\")"
   ],
   "metadata": {
    "collapsed": false,
    "pycharm": {
     "name": "#%%\n"
    }
   }
  },
  {
   "cell_type": "code",
   "execution_count": 132,
   "outputs": [
    {
     "name": "stdout",
     "output_type": "stream",
     "text": [
      "<PIL.Image.Image image mode=RGB size=32x32 at 0x2041FA706D0>\n",
      "(32, 32, 3)\n",
      "[[[ 86.  86.  86.]\n",
      "  [ 87.  87.  87.]\n",
      "  [ 83.  83.  83.]\n",
      "  ...\n",
      "  [ 45.  45.  45.]\n",
      "  [ 30.  30.  30.]\n",
      "  [ 14.  14.  14.]]\n",
      "\n",
      " [[204. 204. 204.]\n",
      "  [195. 195. 195.]\n",
      "  [176. 176. 176.]\n",
      "  ...\n",
      "  [155. 155. 155.]\n",
      "  [117. 117. 117.]\n",
      "  [ 72.  72.  72.]]\n",
      "\n",
      " [[212. 212. 212.]\n",
      "  [194. 194. 194.]\n",
      "  [153. 153. 153.]\n",
      "  ...\n",
      "  [223. 223. 223.]\n",
      "  [187. 187. 187.]\n",
      "  [135. 135. 135.]]\n",
      "\n",
      " ...\n",
      "\n",
      " [[222. 222. 222.]\n",
      "  [225. 225. 225.]\n",
      "  [226. 226. 226.]\n",
      "  ...\n",
      "  [197. 197. 197.]\n",
      "  [179. 179. 179.]\n",
      "  [151. 151. 151.]]\n",
      "\n",
      " [[205. 205. 205.]\n",
      "  [207. 207. 207.]\n",
      "  [210. 210. 210.]\n",
      "  ...\n",
      "  [172. 172. 172.]\n",
      "  [153. 153. 153.]\n",
      "  [127. 127. 127.]]\n",
      "\n",
      " [[145. 145. 145.]\n",
      "  [147. 147. 147.]\n",
      "  [149. 149. 149.]\n",
      "  ...\n",
      "  [120. 120. 120.]\n",
      "  [100. 100. 100.]\n",
      "  [ 78.  78.  78.]]]\n"
     ]
    },
    {
     "data": {
      "text/plain": "<PIL.Image.Image image mode=RGB size=32x32 at 0x2041FA706D0>",
      "image/png": "[encoded data removed]"
     },
     "execution_count": 131,
     "metadata": {},
     "output_type": "execute_result"
    },
    {
     "name": "stdout",
     "output_type": "stream",
     "text": [
      "<PIL.Image.Image image mode=RGB size=32x32 at 0x20445B70A30>\n",
      "(32, 32, 3)\n",
      "[[[ 86.  86.  86.]\n",
      "  [ 87.  87.  87.]\n",
      "  [ 83.  83.  83.]\n",
      "  ...\n",
      "  [ 45.  45.  45.]\n",
      "  [ 30.  30.  30.]\n",
      "  [ 14.  14.  14.]]\n",
      "\n",
      " [[204. 204. 204.]\n",
      "  [195. 195. 195.]\n",
      "  [176. 176. 176.]\n",
      "  ...\n",
      "  [155. 155. 155.]\n",
      "  [117. 117. 117.]\n",
      "  [ 72.  72.  72.]]\n",
      "\n",
      " [[212. 212. 212.]\n",
      "  [194. 194. 194.]\n",
      "  [153. 153. 153.]\n",
      "  ...\n",
      "  [223. 223. 223.]\n",
      "  [187. 187. 187.]\n",
      "  [135. 135. 135.]]\n",
      "\n",
      " ...\n",
      "\n",
      " [[222. 222. 222.]\n",
      "  [225. 225. 225.]\n",
      "  [226. 226. 226.]\n",
      "  ...\n",
      "  [197. 197. 197.]\n",
      "  [179. 179. 179.]\n",
      "  [151. 151. 151.]]\n",
      "\n",
      " [[205. 205. 205.]\n",
      "  [207. 207. 207.]\n",
      "  [210. 210. 210.]\n",
      "  ...\n",
      "  [172. 172. 172.]\n",
      "  [153. 153. 153.]\n",
      "  [127. 127. 127.]]\n",
      "\n",
      " [[145. 145. 145.]\n",
      "  [147. 147. 147.]\n",
      "  [149. 149. 149.]\n",
      "  ...\n",
      "  [120. 120. 120.]\n",
      "  [100. 100. 100.]\n",
      "  [ 78.  78.  78.]]]\n"
     ]
    },
    {
     "data": {
      "text/plain": "<PIL.Image.Image image mode=RGB size=32x32 at 0x20445B70A30>",
      "image/png": "[encoded data removed]"
     },
     "execution_count": 132,
     "metadata": {},
     "output_type": "execute_result"
    }
   ],
   "source": [
    "pic = load_img(dir)\n",
    "print(pic)\n",
    "pic_array = img_to_array(pic)\n",
    "print(pic_array.shape)\n",
    "print(pic_array)\n",
    "\n",
    "pic"
   ],
   "metadata": {
    "collapsed": false,
    "pycharm": {
     "name": "#%%\n"
    }
   }
  },
  {
   "cell_type": "markdown",
   "source": [
    "# creating model"
   ],
   "metadata": {
    "collapsed": false,
    "pycharm": {
     "name": "#%% md\n"
    }
   }
  },
  {
   "cell_type": "code",
   "execution_count": 2,
   "outputs": [
    {
     "name": "stdout",
     "output_type": "stream",
     "text": [
      "Found 28234 images belonging to 10 classes.\n",
      "Found 3530 images belonging to 10 classes.\n",
      "Found 3528 images belonging to 10 classes.\n"
     ]
    }
   ],
   "source": [
    "train_path = 'D:\\\\resource\\Char\\zeroToNineDataset/train'\n",
    "valid_path = 'D:\\\\resource\\Char\\zeroToNineDataset/valid'\n",
    "test_path = 'D:\\\\resource\\Char\\zeroToNineDataset/test'\n",
    "\n",
    "category=['0','1','2','3','4','5','6','7','8','9']\n",
    "\n",
    "imageDataGen = ImageDataGenerator(rescale=1./255)\n",
    "\n",
    "train_batches = imageDataGen.flow_from_directory(directory=train_path, target_size=(32,32), color_mode=\"grayscale\", classes=category, batch_size=10)\n",
    "\n",
    "valid_batches = imageDataGen.flow_from_directory(directory=valid_path, target_size=(32,32), color_mode=\"grayscale\", classes=category, batch_size=10)\n",
    "\n",
    "test_batches = imageDataGen.flow_from_directory(directory=test_path, target_size=(32,32), color_mode=\"grayscale\",classes=category, batch_size=10, shuffle=False)"
   ],
   "metadata": {
    "collapsed": false,
    "pycharm": {
     "name": "#%%\n"
    }
   }
  },
  {
   "cell_type": "code",
   "execution_count": 3,
   "outputs": [
    {
     "name": "stdout",
     "output_type": "stream",
     "text": [
      "353\n",
      "<keras.preprocessing.image.DirectoryIterator object at 0x000001B3BE368370>\n",
      "3528\n",
      "[0 0 0 ... 9 9 9]\n"
     ]
    },
    {
     "name": "stderr",
     "output_type": "stream",
     "text": [
      "C:\\Users\\sam\\AppData\\Local\\Temp/ipykernel_16272/3804662883.py:8: DeprecationWarning: in the future the `.dtype` attribute of a given datatype object must be a valid dtype instance. `data_type.dtype` may need to be coerced using `np.dtype(data_type.dtype)`. (Deprecated NumPy 1.20)\n",
      "  np.dtype(train_batches)\n"
     ]
    },
    {
     "data": {
      "text/plain": "dtype('float32')"
     },
     "execution_count": 3,
     "metadata": {},
     "output_type": "execute_result"
    }
   ],
   "source": [
    "# help(train_batches)\n",
    "print(len(test_batches)) #number of obj = number of data / batch size\n",
    "print(test_batches)\n",
    "\n",
    "print(len(test_batches.classes)) # number of pic\n",
    "print(test_batches.classes)\n",
    "\n",
    "np.dtype(train_batches)\n",
    "# my_list = list(test_batches.classes)\n",
    "# print(my_list[19])\n",
    "# print(my_list)\n",
    "#\n",
    "# test_batches\n",
    "# for element in my_list:\n",
    "#     print(element)"
   ],
   "metadata": {
    "collapsed": false,
    "pycharm": {
     "name": "#%%\n"
    }
   }
  },
  {
   "cell_type": "code",
   "execution_count": 12,
   "outputs": [
    {
     "name": "stdout",
     "output_type": "stream",
     "text": [
      "<class 'numpy.ndarray'>\n",
      "(10, 32, 32, 1)\n",
      "[[[[0.01960784]\n",
      "   [0.02352941]\n",
      "   [0.02352941]\n",
      "   ...\n",
      "   [0.05490196]\n",
      "   [0.05490196]\n",
      "   [0.05490196]]\n",
      "\n",
      "  [[0.07058824]\n",
      "   [0.07843138]\n",
      "   [0.09803922]\n",
      "   ...\n",
      "   [0.20000002]\n",
      "   [0.20392159]\n",
      "   [0.21568629]]\n",
      "\n",
      "  [[0.1137255 ]\n",
      "   [0.14509805]\n",
      "   [0.19215688]\n",
      "   ...\n",
      "   [0.2627451 ]\n",
      "   [0.27450982]\n",
      "   [0.28627452]]\n",
      "\n",
      "  ...\n",
      "\n",
      "  [[0.07450981]\n",
      "   [0.10196079]\n",
      "   [0.14117648]\n",
      "   ...\n",
      "   [0.227451  ]\n",
      "   [0.22352943]\n",
      "   [0.21568629]]\n",
      "\n",
      "  [[0.05490196]\n",
      "   [0.05882353]\n",
      "   [0.06666667]\n",
      "   ...\n",
      "   [0.0509804 ]\n",
      "   [0.05882353]\n",
      "   [0.07058824]]\n",
      "\n",
      "  [[0.04705883]\n",
      "   [0.0509804 ]\n",
      "   [0.05490196]\n",
      "   ...\n",
      "   [0.00784314]\n",
      "   [0.01176471]\n",
      "   [0.02352941]]]\n",
      "\n",
      "\n",
      " [[[0.14509805]\n",
      "   [0.1764706 ]\n",
      "   [0.21568629]\n",
      "   ...\n",
      "   [0.2901961 ]\n",
      "   [0.2901961 ]\n",
      "   [0.2901961 ]]\n",
      "\n",
      "  [[0.3254902 ]\n",
      "   [0.35686275]\n",
      "   [0.3921569 ]\n",
      "   ...\n",
      "   [0.5176471 ]\n",
      "   [0.52156866]\n",
      "   [0.5254902 ]]\n",
      "\n",
      "  [[0.5019608 ]\n",
      "   [0.5529412 ]\n",
      "   [0.59607846]\n",
      "   ...\n",
      "   [0.65882355]\n",
      "   [0.68235296]\n",
      "   [0.70980394]]\n",
      "\n",
      "  ...\n",
      "\n",
      "  [[0.11764707]\n",
      "   [0.10588236]\n",
      "   [0.09803922]\n",
      "   ...\n",
      "   [0.16078432]\n",
      "   [0.16470589]\n",
      "   [0.1764706 ]]\n",
      "\n",
      "  [[0.07843138]\n",
      "   [0.07843138]\n",
      "   [0.07843138]\n",
      "   ...\n",
      "   [0.11764707]\n",
      "   [0.1254902 ]\n",
      "   [0.12941177]]\n",
      "\n",
      "  [[0.05882353]\n",
      "   [0.0509804 ]\n",
      "   [0.04705883]\n",
      "   ...\n",
      "   [0.08627451]\n",
      "   [0.08627451]\n",
      "   [0.08627451]]]\n",
      "\n",
      "\n",
      " [[[0.0509804 ]\n",
      "   [0.0509804 ]\n",
      "   [0.0509804 ]\n",
      "   ...\n",
      "   [0.07058824]\n",
      "   [0.07058824]\n",
      "   [0.07058824]]\n",
      "\n",
      "  [[0.23137257]\n",
      "   [0.23529413]\n",
      "   [0.24313727]\n",
      "   ...\n",
      "   [0.30588236]\n",
      "   [0.3137255 ]\n",
      "   [0.31764707]]\n",
      "\n",
      "  [[0.6117647 ]\n",
      "   [0.6156863 ]\n",
      "   [0.61960787]\n",
      "   ...\n",
      "   [0.6745098 ]\n",
      "   [0.6901961 ]\n",
      "   [0.69803923]]\n",
      "\n",
      "  ...\n",
      "\n",
      "  [[0.627451  ]\n",
      "   [0.60784316]\n",
      "   [0.6       ]\n",
      "   ...\n",
      "   [0.5529412 ]\n",
      "   [0.54901963]\n",
      "   [0.54509807]]\n",
      "\n",
      "  [[0.2392157 ]\n",
      "   [0.24313727]\n",
      "   [0.24705884]\n",
      "   ...\n",
      "   [0.18823531]\n",
      "   [0.18823531]\n",
      "   [0.19215688]]\n",
      "\n",
      "  [[0.09803922]\n",
      "   [0.08627451]\n",
      "   [0.08627451]\n",
      "   ...\n",
      "   [0.08235294]\n",
      "   [0.08627451]\n",
      "   [0.09019608]]]\n",
      "\n",
      "\n",
      " ...\n",
      "\n",
      "\n",
      " [[[0.83921576]\n",
      "   [0.8705883 ]\n",
      "   [0.90196085]\n",
      "   ...\n",
      "   [0.58431375]\n",
      "   [0.61960787]\n",
      "   [0.65882355]]\n",
      "\n",
      "  [[0.76470596]\n",
      "   [0.81568635]\n",
      "   [0.8705883 ]\n",
      "   ...\n",
      "   [0.40784317]\n",
      "   [0.454902  ]\n",
      "   [0.5176471 ]]\n",
      "\n",
      "  [[0.6       ]\n",
      "   [0.6901961 ]\n",
      "   [0.77647066]\n",
      "   ...\n",
      "   [0.23529413]\n",
      "   [0.29411766]\n",
      "   [0.37254903]]\n",
      "\n",
      "  ...\n",
      "\n",
      "  [[0.67058825]\n",
      "   [0.6627451 ]\n",
      "   [0.6509804 ]\n",
      "   ...\n",
      "   [0.5254902 ]\n",
      "   [0.52156866]\n",
      "   [0.5137255 ]]\n",
      "\n",
      "  [[0.39607847]\n",
      "   [0.38431376]\n",
      "   [0.3803922 ]\n",
      "   ...\n",
      "   [0.28235295]\n",
      "   [0.2784314 ]\n",
      "   [0.2784314 ]]\n",
      "\n",
      "  [[0.27058825]\n",
      "   [0.27058825]\n",
      "   [0.27058825]\n",
      "   ...\n",
      "   [0.21568629]\n",
      "   [0.21960786]\n",
      "   [0.21960786]]]\n",
      "\n",
      "\n",
      " [[[0.18431373]\n",
      "   [0.19215688]\n",
      "   [0.19215688]\n",
      "   ...\n",
      "   [0.25882354]\n",
      "   [0.21960786]\n",
      "   [0.20000002]]\n",
      "\n",
      "  [[0.3647059 ]\n",
      "   [0.37254903]\n",
      "   [0.37647063]\n",
      "   ...\n",
      "   [0.3921569 ]\n",
      "   [0.34901962]\n",
      "   [0.3254902 ]]\n",
      "\n",
      "  [[0.5294118 ]\n",
      "   [0.5372549 ]\n",
      "   [0.5019608 ]\n",
      "   ...\n",
      "   [0.5372549 ]\n",
      "   [0.49411768]\n",
      "   [0.4666667 ]]\n",
      "\n",
      "  ...\n",
      "\n",
      "  [[0.12156864]\n",
      "   [0.12941177]\n",
      "   [0.14509805]\n",
      "   ...\n",
      "   [0.15294118]\n",
      "   [0.14901961]\n",
      "   [0.14509805]]\n",
      "\n",
      "  [[0.07450981]\n",
      "   [0.07843138]\n",
      "   [0.09019608]\n",
      "   ...\n",
      "   [0.03921569]\n",
      "   [0.03921569]\n",
      "   [0.03529412]]\n",
      "\n",
      "  [[0.07058824]\n",
      "   [0.07450981]\n",
      "   [0.07058824]\n",
      "   ...\n",
      "   [0.0627451 ]\n",
      "   [0.06666667]\n",
      "   [0.07058824]]]\n",
      "\n",
      "\n",
      " [[[0.26666668]\n",
      "   [0.2784314 ]\n",
      "   [0.29411766]\n",
      "   ...\n",
      "   [0.57254905]\n",
      "   [0.5803922 ]\n",
      "   [0.6039216 ]]\n",
      "\n",
      "  [[0.7960785 ]\n",
      "   [0.81568635]\n",
      "   [0.83921576]\n",
      "   ...\n",
      "   [0.9686275 ]\n",
      "   [0.9725491 ]\n",
      "   [0.97647065]]\n",
      "\n",
      "  [[1.        ]\n",
      "   [1.        ]\n",
      "   [1.        ]\n",
      "   ...\n",
      "   [0.9921569 ]\n",
      "   [0.9960785 ]\n",
      "   [1.        ]]\n",
      "\n",
      "  ...\n",
      "\n",
      "  [[0.9960785 ]\n",
      "   [0.9960785 ]\n",
      "   [0.9960785 ]\n",
      "   ...\n",
      "   [0.95294124]\n",
      "   [0.81568635]\n",
      "   [0.5882353 ]]\n",
      "\n",
      "  [[0.9843138 ]\n",
      "   [0.9803922 ]\n",
      "   [0.9803922 ]\n",
      "   ...\n",
      "   [0.79215693]\n",
      "   [0.6862745 ]\n",
      "   [0.5254902 ]]\n",
      "\n",
      "  [[0.7019608 ]\n",
      "   [0.68235296]\n",
      "   [0.6666667 ]\n",
      "   ...\n",
      "   [0.4666667 ]\n",
      "   [0.454902  ]\n",
      "   [0.40784317]]]]\n"
     ]
    }
   ],
   "source": [
    "import sys\n",
    "# np.set_printoptions(threshold=5)\n",
    "imgs, labels = next(train_batches)\n",
    "print(type(imgs))\n",
    "print(imgs.shape)\n",
    "# print(imgs[1][0][0])\n",
    "print(imgs)"
   ],
   "metadata": {
    "collapsed": false,
    "pycharm": {
     "name": "#%%\n"
    }
   }
  },
  {
   "cell_type": "code",
   "execution_count": 13,
   "outputs": [
    {
     "data": {
      "text/plain": "<PIL.Image.Image image mode=L size=32x32 at 0x1B3BE3681F0>",
      "image/png": "[encoded data removed]"
     },
     "execution_count": 13,
     "metadata": {},
     "output_type": "execute_result"
    }
   ],
   "source": [
    "from keras.preprocessing.image import array_to_img\n",
    "from keras.preprocessing import image\n",
    "img = array_to_img(imgs[9])\n",
    "img\n"
   ],
   "metadata": {
    "collapsed": false,
    "pycharm": {
     "name": "#%%\n"
    }
   }
  },
  {
   "cell_type": "code",
   "execution_count": 23,
   "outputs": [],
   "source": [
    "def plotImages(images_arr):\n",
    "    fig, axes = plt.subplots(1, 10, figsize=(20,20))\n",
    "    axes = axes.flatten()\n",
    "    for img, ax in zip( images_arr, axes):\n",
    "        ax.imshow(img)\n",
    "        ax.axis('off')\n",
    "    plt.tight_layout()\n",
    "    plt.show()"
   ],
   "metadata": {
    "collapsed": false,
    "pycharm": {
     "name": "#%%\n"
    }
   }
  },
  {
   "cell_type": "code",
   "execution_count": 24,
   "outputs": [
    {
     "data": {
      "text/plain": "<Figure size 1440x1440 with 10 Axes>",
      "image/png": "[encoded data removed]"
     },
     "metadata": {
      "needs_background": "light"
     },
     "output_type": "display_data"
    },
    {
     "name": "stdout",
     "output_type": "stream",
     "text": [
      "[[0. 0. 0. 0. 0. 0. 0. 1. 0. 0.]\n",
      " [0. 0. 0. 0. 0. 1. 0. 0. 0. 0.]\n",
      " [0. 0. 0. 0. 0. 0. 0. 1. 0. 0.]\n",
      " [0. 0. 0. 0. 1. 0. 0. 0. 0. 0.]\n",
      " [0. 0. 1. 0. 0. 0. 0. 0. 0. 0.]\n",
      " [0. 0. 0. 1. 0. 0. 0. 0. 0. 0.]\n",
      " [0. 0. 0. 0. 0. 0. 0. 0. 1. 0.]\n",
      " [0. 0. 0. 0. 0. 1. 0. 0. 0. 0.]\n",
      " [0. 0. 0. 0. 0. 0. 0. 1. 0. 0.]\n",
      " [0. 0. 0. 0. 1. 0. 0. 0. 0. 0.]]\n"
     ]
    }
   ],
   "source": [
    "#using one hot coding for labels\n",
    "plotImages(imgs)\n",
    "print(labels)"
   ],
   "metadata": {
    "collapsed": false,
    "pycharm": {
     "name": "#%%\n"
    }
   }
  },
  {
   "cell_type": "code",
   "execution_count": 25,
   "outputs": [
    {
     "data": {
      "text/plain": "<Figure size 1440x1440 with 10 Axes>",
      "image/png": "[encoded data removed]"
     },
     "metadata": {
      "needs_background": "light"
     },
     "output_type": "display_data"
    },
    {
     "name": "stdout",
     "output_type": "stream",
     "text": [
      "[[1. 0. 0. 0. 0. 0. 0. 0. 0. 0.]\n",
      " [1. 0. 0. 0. 0. 0. 0. 0. 0. 0.]\n",
      " [1. 0. 0. 0. 0. 0. 0. 0. 0. 0.]\n",
      " [1. 0. 0. 0. 0. 0. 0. 0. 0. 0.]\n",
      " [1. 0. 0. 0. 0. 0. 0. 0. 0. 0.]\n",
      " [1. 0. 0. 0. 0. 0. 0. 0. 0. 0.]\n",
      " [1. 0. 0. 0. 0. 0. 0. 0. 0. 0.]\n",
      " [1. 0. 0. 0. 0. 0. 0. 0. 0. 0.]\n",
      " [1. 0. 0. 0. 0. 0. 0. 0. 0. 0.]\n",
      " [1. 0. 0. 0. 0. 0. 0. 0. 0. 0.]]\n",
      "[0 0 0 ... 9 9 9]\n"
     ]
    }
   ],
   "source": [
    "test_imgs, test_labels = next(test_batches)\n",
    "plotImages(test_imgs)\n",
    "print(test_labels)\n",
    "print(test_batches.classes)"
   ],
   "metadata": {
    "collapsed": false,
    "pycharm": {
     "name": "#%%\n"
    }
   }
  },
  {
   "cell_type": "code",
   "execution_count": 53,
   "outputs": [
    {
     "name": "stdout",
     "output_type": "stream",
     "text": [
      "Done!\n"
     ]
    }
   ],
   "source": [
    "model = Sequential([\n",
    "    layers.Conv2D(filters=32, kernel_size=(5, 5), activation='relu', padding = 'same', input_shape=(32, 32,1)),\n",
    "    layers.MaxPool2D(pool_size=(2, 2), strides=2),\n",
    "    layers.Conv2D(filters=64, kernel_size=(3, 3), activation='relu', padding = 'same'),\n",
    "    layers.MaxPool2D(pool_size=(2, 2), strides=2),\n",
    "    layers.Flatten(),\n",
    "    layers.Dense(units=10, activation='softmax')\n",
    "])\n",
    "print(\"Done!\")\n",
    "\n",
    "\n",
    "# <editor-fold desc=\"another way of creating layers of model\">\n",
    "# model5  = tf.keras.models.Sequential()\n",
    "# model5.add(layers.Conv2D(filters=32, kernel_size=(5, 5), activation='relu', padding = 'same', input_shape=(32, 32,3)))\n",
    "# model5.add(layers.MaxPool2D(pool_size=(2, 2), strides=2))\n",
    "# model5.add(layers.Conv2D(filters=64, kernel_size=(3, 3), activation='relu', padding = 'same'))\n",
    "# model5.add(layers.MaxPool2D(pool_size=(3, 3), strides=2),)\n",
    "# model5.add(layers.Flatten())\n",
    "# model5.add(layers.Dense(units=10, activation='softmax'))\n",
    "# print('Ejra shodam XD')\n",
    "# </editor-fold>\n",
    "\n",
    "# <editor-fold desc=\"Feature extraction with a Sequential model\">\n",
    "# feature_extractor = keras.Model(\n",
    "#     inputs=model.inputs,\n",
    "#     outputs=[layer.output for layer in model.layers],\n",
    "# )\n",
    "#\n",
    "# # Call feature extractor on test input.\n",
    "# x = tf.ones((1, 250, 250, 3))\n",
    "# features = feature_extractor(x)\n",
    "# features\n",
    "# </editor-fold>"
   ],
   "metadata": {
    "collapsed": false,
    "pycharm": {
     "name": "#%%\n"
    }
   }
  },
  {
   "cell_type": "code",
   "execution_count": 54,
   "outputs": [
    {
     "name": "stdout",
     "output_type": "stream",
     "text": [
      "Model: \"sequential_3\"\n",
      "_________________________________________________________________\n",
      "Layer (type)                 Output Shape              Param #   \n",
      "=================================================================\n",
      "conv2d_6 (Conv2D)            (None, 32, 32, 32)        832       \n",
      "_________________________________________________________________\n",
      "max_pooling2d_6 (MaxPooling2 (None, 16, 16, 32)        0         \n",
      "_________________________________________________________________\n",
      "conv2d_7 (Conv2D)            (None, 16, 16, 64)        18496     \n",
      "_________________________________________________________________\n",
      "max_pooling2d_7 (MaxPooling2 (None, 8, 8, 64)          0         \n",
      "_________________________________________________________________\n",
      "flatten_3 (Flatten)          (None, 4096)              0         \n",
      "_________________________________________________________________\n",
      "dense_3 (Dense)              (None, 10)                40970     \n",
      "=================================================================\n",
      "Total params: 60,298\n",
      "Trainable params: 60,298\n",
      "Non-trainable params: 0\n",
      "_________________________________________________________________\n"
     ]
    }
   ],
   "source": [
    "model.summary()"
   ],
   "metadata": {
    "collapsed": false,
    "pycharm": {
     "name": "#%%\n"
    }
   }
  },
  {
   "cell_type": "code",
   "execution_count": 55,
   "outputs": [],
   "source": [
    "# Using callbacks\n",
    "callbacks = [\n",
    "    keras.callbacks.EarlyStopping(\n",
    "        # Stop training when `val_loss` is no longer improving\n",
    "        monitor=\"val_loss\",\n",
    "        # \"no longer improving\" being defined as \"no better than 1e-2 less\"\n",
    "        min_delta=1e-2,\n",
    "        # \"no longer improving\" being further defined as \"for at least 2 epochs\"\n",
    "        patience=2,\n",
    "        verbose=1,\n",
    "    )\n",
    "]"
   ],
   "metadata": {
    "collapsed": false,
    "pycharm": {
     "name": "#%%\n"
    }
   }
  },
  {
   "cell_type": "code",
   "execution_count": null,
   "outputs": [],
   "source": [
    "# <editor-fold desc=\"Using learning rate schedules\">\n",
    "initial_learning_rate = 0.1\n",
    "lr_schedule = keras.optimizers.schedules.ExponentialDecay(\n",
    "    initial_learning_rate, decay_steps=100000, decay_rate=0.96, staircase=True\n",
    ")\n",
    "\n",
    "optimizer = keras.optimizers.RMSprop(learning_rate=lr_schedule)\n",
    "# </editor-fold>"
   ],
   "metadata": {
    "collapsed": false,
    "pycharm": {
     "name": "#%%\n"
    }
   }
  },
  {
   "cell_type": "code",
   "execution_count": 57,
   "outputs": [],
   "source": [
    "from tensorflow.keras.optimizers import Adam\n",
    "model.compile(optimizer= Adam(learning_rate=0.0003), loss='categorical_crossentropy', metrics=['accuracy'])"
   ],
   "metadata": {
    "collapsed": false,
    "pycharm": {
     "name": "#%%\n"
    }
   }
  },
  {
   "cell_type": "code",
   "execution_count": null,
   "outputs": [],
   "source": [
    "# model.compile(optimizer='adam',loss='categorical_crossentropy',metrics=['accuracy'])"
   ],
   "metadata": {
    "collapsed": false,
    "pycharm": {
     "name": "#%%\n",
     "is_executing": true
    }
   }
  },
  {
   "cell_type": "code",
   "execution_count": 58,
   "outputs": [
    {
     "name": "stdout",
     "output_type": "stream",
     "text": [
      "Epoch 1/10\n",
      "2824/2824 - 292s - loss: 0.4978 - accuracy: 0.8622 - val_loss: 0.2400 - val_accuracy: 0.9447\n",
      "Epoch 2/10\n",
      "2824/2824 - 31s - loss: 0.2123 - accuracy: 0.9535 - val_loss: 0.2010 - val_accuracy: 0.9531\n",
      "Epoch 3/10\n",
      "2824/2824 - 33s - loss: 0.1641 - accuracy: 0.9659 - val_loss: 0.1406 - val_accuracy: 0.9706\n",
      "Epoch 4/10\n",
      "2824/2824 - 31s - loss: 0.1374 - accuracy: 0.9728 - val_loss: 0.1217 - val_accuracy: 0.9754\n",
      "Epoch 5/10\n",
      "2824/2824 - 32s - loss: 0.1207 - accuracy: 0.9755 - val_loss: 0.1001 - val_accuracy: 0.9809\n",
      "Epoch 6/10\n",
      "2824/2824 - 31s - loss: 0.1067 - accuracy: 0.9796 - val_loss: 0.0900 - val_accuracy: 0.9826\n",
      "Epoch 7/10\n",
      "2824/2824 - 32s - loss: 0.0956 - accuracy: 0.9811 - val_loss: 0.0800 - val_accuracy: 0.9853\n",
      "Epoch 8/10\n",
      "2824/2824 - 31s - loss: 0.0860 - accuracy: 0.9834 - val_loss: 0.0714 - val_accuracy: 0.9870\n",
      "Epoch 9/10\n",
      "2824/2824 - 32s - loss: 0.0779 - accuracy: 0.9854 - val_loss: 0.0672 - val_accuracy: 0.9862\n",
      "Epoch 10/10\n",
      "2824/2824 - 31s - loss: 0.0723 - accuracy: 0.9857 - val_loss: 0.0636 - val_accuracy: 0.9866\n",
      "Done!\n"
     ]
    }
   ],
   "source": [
    "hist = model.fit(x=train_batches,\n",
    "    steps_per_epoch=len(train_batches),\n",
    "    validation_data=valid_batches,\n",
    "    validation_steps=len(valid_batches),\n",
    "    epochs=10,\n",
    "    verbose=2\n",
    ")\n",
    "print('Done!')"
   ],
   "metadata": {
    "collapsed": false,
    "pycharm": {
     "name": "#%%\n"
    }
   }
  },
  {
   "cell_type": "code",
   "execution_count": 90,
   "outputs": [
    {
     "name": "stdout",
     "output_type": "stream",
     "text": [
      "Model Saved\n"
     ]
    }
   ],
   "source": [
    "import os.path\n",
    "\n",
    "if os.path.isfile(\"D:\\pycharm\\kerass\\models\") is False:\n",
    "    model.save(\"D:\\pycharm\\kerass\\models\\zeroToNineOurDatasettamrin.h5\")\n",
    "    print(\"Model Saved\")"
   ],
   "metadata": {
    "collapsed": false,
    "pycharm": {
     "name": "#%%\n"
    }
   }
  },
  {
   "cell_type": "code",
   "execution_count": 15,
   "outputs": [],
   "source": [
    "#load model\n",
    "model = keras.models.load_model(\"D:\\pycharm\\kerass\\models\\zeroToNineOurDataset.h5\")\n"
   ],
   "metadata": {
    "collapsed": false,
    "pycharm": {
     "name": "#%%\n"
    }
   }
  },
  {
   "cell_type": "code",
   "execution_count": 59,
   "outputs": [
    {
     "data": {
      "text/plain": "<Figure size 432x288 with 1 Axes>",
      "image/png": "[encoded data removed]"
     },
     "metadata": {
      "needs_background": "light"
     },
     "output_type": "display_data"
    }
   ],
   "source": [
    "# Plotting our loss charts\n",
    "import matplotlib.pyplot as plt\n",
    "\n",
    "# Use the History object we created to get our saved performance results\n",
    "history_dict = hist.history\n",
    "\n",
    "# Extract the loss and validation losses\n",
    "loss_values = history_dict['loss']\n",
    "val_loss_values = history_dict['val_loss']\n",
    "\n",
    "# Get the number of epochs and create an array up to that number using range()\n",
    "epochs = range(1, len(loss_values) + 1)\n",
    "\n",
    "# Plot line charts for both Validation and Training Loss\n",
    "line1 = plt.plot(epochs, val_loss_values, label='Validation/Test Loss')\n",
    "line2 = plt.plot(epochs, loss_values, label='Training Loss')\n",
    "plt.setp(line1, linewidth=2.0, marker = '+', markersize=10.0)\n",
    "plt.setp(line2, linewidth=2.0, marker = '4', markersize=10.0)\n",
    "plt.xlabel('Epochs')\n",
    "plt.ylabel('Loss')\n",
    "plt.grid(True)\n",
    "plt.legend()\n",
    "plt.show()"
   ],
   "metadata": {
    "collapsed": false,
    "pycharm": {
     "name": "#%%\n"
    }
   }
  },
  {
   "cell_type": "code",
   "execution_count": null,
   "outputs": [],
   "source": [
    "# keras site\n",
    "import pydot\n",
    "import pydotplus\n",
    "import graphviz\n",
    "# keras.utils.plot_model(model, \"my_first_model.png\")"
   ],
   "metadata": {
    "collapsed": false,
    "pycharm": {
     "name": "#%%\n",
     "is_executing": true
    }
   }
  },
  {
   "cell_type": "code",
   "execution_count": 60,
   "outputs": [
    {
     "name": "stdout",
     "output_type": "stream",
     "text": [
      "2824/2824 [==============================] - 18s 6ms/step - loss: 0.0636 - accuracy: 0.9866\n",
      "0.06362313032150269\n",
      "0.9866473078727722\n"
     ]
    }
   ],
   "source": [
    "val_loss, val_acc = model.evaluate(x=valid_batches)\n",
    "print(val_loss)\n",
    "print(val_acc)"
   ],
   "metadata": {
    "collapsed": false,
    "pycharm": {
     "name": "#%%\n"
    }
   }
  },
  {
   "cell_type": "code",
   "execution_count": 61,
   "outputs": [
    {
     "data": {
      "text/plain": "<Figure size 432x288 with 2 Axes>",
      "image/png": "[encoded data removed]"
     },
     "metadata": {
      "needs_background": "light"
     },
     "output_type": "display_data"
    }
   ],
   "source": [
    "# <editor-fold desc=\"show Loss and Accuracy\">\n",
    "# from idlelib import history\n",
    "from matplotlib import pyplot\n",
    "# plot loss during training\n",
    "pyplot.subplot(211)\n",
    "pyplot.title('Loss')\n",
    "pyplot.plot(hist.history['loss'], label='train')\n",
    "pyplot.plot(hist.history['val_loss'], label='test')\n",
    "pyplot.legend()\n",
    "# plot accuracy during training\n",
    "pyplot.subplot(212)\n",
    "pyplot.title('Accuracy')\n",
    "pyplot.plot(hist.history['accuracy'], label='train')\n",
    "pyplot.plot(hist.history['val_accuracy'], label='test')\n",
    "pyplot.legend()\n",
    "pyplot.show()\n",
    "# </editor-fold>"
   ],
   "metadata": {
    "collapsed": false,
    "pycharm": {
     "name": "#%%\n"
    }
   }
  },
  {
   "cell_type": "code",
   "execution_count": 62,
   "outputs": [
    {
     "name": "stdout",
     "output_type": "stream",
     "text": [
      "[[9.9814498e-01 5.3934320e-05 4.0153987e-04 ... 4.5644737e-07\n",
      "  8.0700362e-09 9.1685163e-04]\n",
      " [9.9986613e-01 3.9055513e-07 1.1457859e-04 ... 2.4146100e-08\n",
      "  3.3653336e-08 5.7269267e-07]\n",
      " [9.9925035e-01 1.8857003e-05 2.7155675e-04 ... 2.6224122e-06\n",
      "  5.1173076e-05 5.5058994e-05]\n",
      " ...\n",
      " [2.4274770e-14 2.3723718e-04 3.3264516e-07 ... 3.8530751e-10\n",
      "  2.9315840e-06 9.9966216e-01]\n",
      " [6.6090209e-08 7.7800453e-03 2.9144798e-07 ... 1.8009944e-08\n",
      "  5.9857280e-07 9.9217296e-01]\n",
      " [1.9905202e-10 2.2270058e-04 9.8773735e-06 ... 3.5523019e-08\n",
      "  1.0995309e-04 9.9854088e-01]]\n"
     ]
    }
   ],
   "source": [
    "predictions = model.predict(test_batches)\n",
    "print(predictions)"
   ],
   "metadata": {
    "collapsed": false,
    "pycharm": {
     "name": "#%%\n"
    }
   }
  },
  {
   "cell_type": "code",
   "execution_count": 123,
   "outputs": [
    {
     "ename": "TypeError",
     "evalue": "predict() got an unexpected keyword argument 'trainable'",
     "output_type": "error",
     "traceback": [
      "\u001B[1;31m---------------------------------------------------------------------------\u001B[0m",
      "\u001B[1;31mTypeError\u001B[0m                                 Traceback (most recent call last)",
      "\u001B[1;32m~\\AppData\\Local\\Temp/ipykernel_16272/2789639195.py\u001B[0m in \u001B[0;36m<module>\u001B[1;34m\u001B[0m\n\u001B[0;32m     11\u001B[0m     \u001B[1;32mimport\u001B[0m \u001B[0mtime\u001B[0m\u001B[1;33m\u001B[0m\u001B[1;33m\u001B[0m\u001B[0m\n\u001B[0;32m     12\u001B[0m     \u001B[0mt\u001B[0m \u001B[1;33m=\u001B[0m \u001B[0mtime\u001B[0m\u001B[1;33m.\u001B[0m\u001B[0mtime\u001B[0m\u001B[1;33m(\u001B[0m\u001B[1;33m)\u001B[0m\u001B[1;33m\u001B[0m\u001B[1;33m\u001B[0m\u001B[0m\n\u001B[1;32m---> 13\u001B[1;33m     \u001B[0mpredictions\u001B[0m \u001B[1;33m=\u001B[0m \u001B[0mmodel\u001B[0m\u001B[1;33m.\u001B[0m\u001B[0mpredict\u001B[0m\u001B[1;33m(\u001B[0m\u001B[0mx\u001B[0m\u001B[1;33m=\u001B[0m\u001B[0mimgs\u001B[0m\u001B[1;33m,\u001B[0m \u001B[0msteps\u001B[0m\u001B[1;33m=\u001B[0m\u001B[0mlen\u001B[0m\u001B[1;33m(\u001B[0m\u001B[0mimgs\u001B[0m\u001B[1;33m)\u001B[0m\u001B[1;33m,\u001B[0m \u001B[0mverbose\u001B[0m\u001B[1;33m=\u001B[0m\u001B[1;36m1\u001B[0m\u001B[1;33m,\u001B[0m \u001B[0mtrainable\u001B[0m \u001B[1;33m=\u001B[0m \u001B[1;32mFalse\u001B[0m\u001B[1;33m)\u001B[0m\u001B[1;33m\u001B[0m\u001B[1;33m\u001B[0m\u001B[0m\n\u001B[0m\u001B[0;32m     14\u001B[0m     \u001B[1;31m# predictions = model(imgs)\u001B[0m\u001B[1;33m\u001B[0m\u001B[1;33m\u001B[0m\u001B[0m\n\u001B[0;32m     15\u001B[0m \u001B[1;33m\u001B[0m\u001B[0m\n",
      "\u001B[1;31mTypeError\u001B[0m: predict() got an unexpected keyword argument 'trainable'"
     ]
    }
   ],
   "source": [
    "from tensorflow.python.keras import backend\n",
    "\n",
    "\n",
    "# def call(self, inputs, training=1):\n",
    "#   if training is None:\n",
    "#     training = backend.learning_phase()\n",
    "\n",
    "# tf.keras.backend.set_learning_phase(1)\n",
    "\n",
    "with tf.device('/gpu:0'):\n",
    "    import time\n",
    "    t = time.time()\n",
    "    predictions = model.predict(x=imgs, steps=len(imgs), verbose=1, trainable = False)\n",
    "    # predictions = model(imgs)\n",
    "\n",
    "    print(time.time()-t)\n",
    "\n",
    "# print(np.round(predictions))"
   ],
   "metadata": {
    "collapsed": false,
    "pycharm": {
     "name": "#%%\n"
    }
   }
  },
  {
   "cell_type": "code",
   "execution_count": 122,
   "outputs": [
    {
     "name": "stdout",
     "output_type": "stream",
     "text": [
      "353/353 [==============================] - 2s 7ms/step\n",
      "2.5452544689178467\n"
     ]
    }
   ],
   "source": [
    "with tf.device('/cpu:0'):\n",
    "    # // GPU stuff\n",
    "    import time\n",
    "    t = time.time()\n",
    "    predictions = model.predict(x=test_batches, steps=len(test_batches), verbose=1)\n",
    "    print(time.time()-t)"
   ],
   "metadata": {
    "collapsed": false,
    "pycharm": {
     "name": "#%%\n"
    }
   }
  },
  {
   "cell_type": "code",
   "execution_count": 64,
   "outputs": [
    {
     "data": {
      "text/plain": "array([[9.9814498e-01, 5.3934320e-05, 4.0153987e-04, ..., 4.5644737e-07,\n        8.0700362e-09, 9.1685163e-04],\n       [9.9986613e-01, 3.9055513e-07, 1.1457859e-04, ..., 2.4146100e-08,\n        3.3653336e-08, 5.7269267e-07],\n       [9.9925035e-01, 1.8857003e-05, 2.7155675e-04, ..., 2.6224122e-06,\n        5.1173076e-05, 5.5058994e-05],\n       ...,\n       [2.4274770e-14, 2.3723718e-04, 3.3264516e-07, ..., 3.8530751e-10,\n        2.9315840e-06, 9.9966216e-01],\n       [6.6090209e-08, 7.7800453e-03, 2.9144798e-07, ..., 1.8009944e-08,\n        5.9857280e-07, 9.9217296e-01],\n       [1.9905202e-10, 2.2270058e-04, 9.8773735e-06, ..., 3.5523019e-08,\n        1.0995309e-04, 9.9854088e-01]], dtype=float32)"
     },
     "execution_count": 64,
     "metadata": {},
     "output_type": "execute_result"
    }
   ],
   "source": [
    "predictions"
   ],
   "metadata": {
    "collapsed": false,
    "pycharm": {
     "name": "#%%\n"
    }
   }
  },
  {
   "cell_type": "code",
   "execution_count": 65,
   "outputs": [
    {
     "data": {
      "text/plain": "array([[1., 0., 0., ..., 0., 0., 0.],\n       [1., 0., 0., ..., 0., 0., 0.],\n       [1., 0., 0., ..., 0., 0., 0.],\n       ...,\n       [0., 0., 0., ..., 0., 0., 1.],\n       [0., 0., 0., ..., 0., 0., 1.],\n       [0., 0., 0., ..., 0., 0., 1.]], dtype=float32)"
     },
     "execution_count": 65,
     "metadata": {},
     "output_type": "execute_result"
    }
   ],
   "source": [
    "np.round(predictions)"
   ],
   "metadata": {
    "collapsed": false,
    "pycharm": {
     "name": "#%%\n"
    }
   }
  },
  {
   "cell_type": "code",
   "execution_count": 66,
   "outputs": [],
   "source": [
    "def plot_confusion_matrix(cm, classes,\n",
    "                          normalize=False,\n",
    "                          title='Confusion matrix',\n",
    "                          cmap=plt.cm.Blues):\n",
    "    \"\"\"\n",
    "    This function prints and plots the confusion matrix.\n",
    "    Normalization can be applied by setting `normalize=True`.\n",
    "    \"\"\"\n",
    "    plt.imshow(cm, interpolation='nearest', cmap=cmap)\n",
    "    plt.title(title)\n",
    "    plt.colorbar()\n",
    "    tick_marks = np.arange(len(classes))\n",
    "    plt.xticks(tick_marks, classes, rotation=45)\n",
    "    plt.yticks(tick_marks, classes)\n",
    "\n",
    "    if normalize:\n",
    "        cm = cm.astype('float') / cm.sum(axis=1)[:, np.newaxis]\n",
    "        print(\"Normalized confusion matrix\")\n",
    "    else:\n",
    "        print('Confusion matrix, without normalization')\n",
    "\n",
    "    print(cm)\n",
    "\n",
    "    thresh = cm.max() / 2.\n",
    "    for i, j in itertools.product(range(cm.shape[0]), range(cm.shape[1])):\n",
    "        plt.text(j, i, cm[i, j],\n",
    "            horizontalalignment=\"center\",\n",
    "            color=\"white\" if cm[i, j] > thresh else \"black\")\n",
    "\n",
    "    plt.tight_layout()\n",
    "    plt.ylabel('True label')\n",
    "    plt.xlabel('Predicted label')"
   ],
   "metadata": {
    "collapsed": false,
    "pycharm": {
     "name": "#%%\n"
    }
   }
  },
  {
   "cell_type": "code",
   "execution_count": 67,
   "outputs": [],
   "source": [
    "cm = confusion_matrix(y_true=test_batches.classes, y_pred=np.argmax(predictions, axis=-1))"
   ],
   "metadata": {
    "collapsed": false,
    "pycharm": {
     "name": "#%%\n"
    }
   }
  },
  {
   "cell_type": "code",
   "execution_count": 68,
   "outputs": [
    {
     "name": "stdout",
     "output_type": "stream",
     "text": [
      "{'0': 0, '1': 1, '2': 2, '3': 3, '4': 4, '5': 5, '6': 6, '7': 7, '8': 8, '9': 9}\n"
     ]
    }
   ],
   "source": [
    "print(test_batches.class_indices)"
   ],
   "metadata": {
    "collapsed": false,
    "pycharm": {
     "name": "#%%\n"
    }
   }
  },
  {
   "cell_type": "code",
   "execution_count": 69,
   "outputs": [
    {
     "name": "stdout",
     "output_type": "stream",
     "text": [
      "Confusion matrix, without normalization\n",
      "[[108   0   0   0   0   0   1   0   0   1]\n",
      " [  0 386   3   1   1   0   0   1   2   1]\n",
      " [  1   2 522   7   0   4   0   2   0   2]\n",
      " [  0   1  11 363   4   1   1   0   0   2]\n",
      " [  0   1   1   0 329   0   0   1   0   1]\n",
      " [  1   2   0   1   3 349   0   1   2   0]\n",
      " [  0   1   0   1   2   0 354   0   0   0]\n",
      " [  0   3   0   1   2   1   0 327   1   0]\n",
      " [  0   3   1   0   0   0   1   1 362   2]\n",
      " [  0   4   2   0   1   1   0   0   0 337]]\n"
     ]
    },
    {
     "data": {
      "text/plain": "<Figure size 432x288 with 2 Axes>",
      "image/png": "[encoded data removed]"
     },
     "metadata": {
      "needs_background": "light"
     },
     "output_type": "display_data"
    }
   ],
   "source": [
    "cm_plot_labels = ['one', 'two', 'three', 'four', 'five', 'six', 'seven', 'eight', 'nine']\n",
    "\n",
    "plot_confusion_matrix(cm=cm, classes=cm_plot_labels, title='Confusion Matrix')"
   ],
   "metadata": {
    "collapsed": false,
    "pycharm": {
     "name": "#%%\n"
    }
   }
  },
  {
   "cell_type": "markdown",
   "source": [
    "# test"
   ],
   "metadata": {
    "collapsed": false,
    "pycharm": {
     "name": "#%% md\n"
    }
   }
  },
  {
   "cell_type": "code",
   "execution_count": 57,
   "outputs": [
    {
     "name": "stdout",
     "output_type": "stream",
     "text": [
      "<PIL.Image.Image image mode=L size=32x32 at 0x1B46EA91160>\n"
     ]
    },
    {
     "data": {
      "text/plain": "<PIL.Image.Image image mode=L size=32x32 at 0x1B46EA91160>",
      "image/png": "[encoded data removed]"
     },
     "execution_count": 57,
     "metadata": {},
     "output_type": "execute_result"
    }
   ],
   "source": [
    "dir = 'D:\\\\resource\\Char\\zeroToNineDataset/test/4/2021-01-14_07-34-30-514_47H71420-IRN0.bmp'\n",
    "from PIL import Image\n",
    "pic = Image.open(dir).convert('L')\n",
    "# pic = load_img(dir)\n",
    "print(pic)\n",
    "pic_array = img_to_array(pic)\n",
    "pic_array.shape\n",
    "pic"
   ],
   "metadata": {
    "collapsed": false,
    "pycharm": {
     "name": "#%%\n"
    }
   }
  },
  {
   "cell_type": "code",
   "execution_count": 59,
   "outputs": [
    {
     "data": {
      "text/plain": "['/device:CPU:0', '/device:GPU:0']"
     },
     "execution_count": 59,
     "metadata": {},
     "output_type": "execute_result"
    }
   ],
   "source": [
    "def get_available_devices():\n",
    "    local_device_protos = device_lib.list_local_devices()\n",
    "    return [x.name for x in local_device_protos]\n",
    "\n",
    "get_available_devices()"
   ],
   "metadata": {
    "collapsed": false,
    "pycharm": {
     "name": "#%%\n"
    }
   }
  },
  {
   "cell_type": "code",
   "execution_count": 58,
   "outputs": [
    {
     "data": {
      "text/plain": "(1, 32, 32, 1)"
     },
     "execution_count": 58,
     "metadata": {},
     "output_type": "execute_result"
    }
   ],
   "source": [
    "pic_array = pic_array.reshape((1,) + pic_array.shape) # Converting into 4 dimension array\n",
    "pic_array.shape"
   ],
   "metadata": {
    "collapsed": false,
    "pycharm": {
     "name": "#%%\n"
    }
   }
  },
  {
   "cell_type": "code",
   "execution_count": 106,
   "outputs": [
    {
     "name": "stdout",
     "output_type": "stream",
     "text": [
      "0.05585169792175293\n",
      "tf.Tensor([[0. 0. 0. 0. 1. 0. 0. 0. 0. 0.]], shape=(1, 10), dtype=float32)\n",
      "0.0059850215911865234\n"
     ]
    }
   ],
   "source": [
    "import time\n",
    "with tf.device('/gpu:0'):\n",
    "    t = time.time()\n",
    "    predictions1 = model.predict(pic_array)\n",
    "    print(time.time()-t)\n",
    "\n",
    "    t = time.time()\n",
    "    print(model(pic_array))\n",
    "    print(time.time()-t)"
   ],
   "metadata": {
    "collapsed": false,
    "pycharm": {
     "name": "#%%\n"
    }
   }
  },
  {
   "cell_type": "code",
   "execution_count": 99,
   "outputs": [
    {
     "name": "stdout",
     "output_type": "stream",
     "text": [
      "0.05782008171081543\n"
     ]
    }
   ],
   "source": [
    "import time\n",
    "with tf.device('/cpu:0'):\n",
    "    t = time.time()\n",
    "    predictions1 = model.predict(pic_array)\n",
    "    print(time.time()-t)"
   ],
   "metadata": {
    "collapsed": false,
    "pycharm": {
     "name": "#%%\n"
    }
   }
  },
  {
   "cell_type": "code",
   "execution_count": 88,
   "outputs": [
    {
     "data": {
      "text/plain": "array([[0., 0., 0., 0., 1., 0., 0., 0., 0., 0.]], dtype=float32)"
     },
     "execution_count": 88,
     "metadata": {},
     "output_type": "execute_result"
    }
   ],
   "source": [
    "predictions1"
   ],
   "metadata": {
    "collapsed": false,
    "pycharm": {
     "name": "#%%\n"
    }
   }
  },
  {
   "cell_type": "code",
   "execution_count": 89,
   "outputs": [
    {
     "data": {
      "text/plain": "array([[0., 0., 0., 0., 1., 0., 0., 0., 0., 0.]], dtype=float32)"
     },
     "execution_count": 89,
     "metadata": {},
     "output_type": "execute_result"
    }
   ],
   "source": [
    "np.round(predictions1)"
   ],
   "metadata": {
    "collapsed": false,
    "pycharm": {
     "name": "#%%\n"
    }
   }
  }
 ],
 "metadata": {
  "kernelspec": {
   "display_name": "Python 3",
   "language": "python",
   "name": "python3"
  },
  "language_info": {
   "codemirror_mode": {
    "name": "ipython",
    "version": 2
   },
   "file_extension": ".py",
   "mimetype": "text/x-python",
   "name": "python",
   "nbconvert_exporter": "python",
   "pygments_lexer": "ipython2",
   "version": "2.7.6"
  }
 },
 "nbformat": 4,
 "nbformat_minor": 0
}